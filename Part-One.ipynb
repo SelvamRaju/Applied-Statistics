{
 "cells": [
  {
   "cell_type": "markdown",
   "metadata": {},
   "source": [
    "## Part 1 - Question Based"
   ]
  },
  {
   "cell_type": "markdown",
   "metadata": {},
   "source": [
    "## Answer 1"
   ]
  },
  {
   "cell_type": "code",
   "execution_count": 109,
   "metadata": {},
   "outputs": [
    {
     "name": "stdout",
     "output_type": "stream",
     "text": [
      "1. Probability of the people who planned to purchase and actually placed an order is  0.5333333333333333 i.e 53.33 %\n",
      "2. Probability of the people who planned to purchase and actually placed an order given people who planned to purchase  0.8 i.e 80.0 %\n"
     ]
    }
   ],
   "source": [
    "#1. Refer to the above table and find the joint probability of the people who planned to purchase and actually placed an order.\n",
    "\n",
    "# Event A = people who planned to purchase\n",
    "# Event B = people who actually placed an order\n",
    "\n",
    "# P(A ∩ B) = P(A) * P(B)\n",
    "probabilityA = 400/600\n",
    "probabilityB = 400/500\n",
    "jointProbability = probabilityA * probabilityB\n",
    "jointProbabilityPercentage = round(jointProbability*100, 2) # rounding to 2 decimal places\n",
    "print('1. Probability of the people who planned to purchase and actually placed an order is ', jointProbability, 'i.e', jointProbabilityPercentage, '%')\n",
    "\n",
    "#2. Refer to the above table and find the joint probability of the people who planned to purchase and actually placed an order, given that people planned to purchase.\n",
    "\n",
    "# P(B|A) =  P(A ∩ B) / P(A)\n",
    "probabilityBGivenA = jointProbability/probabilityA\n",
    "probabilityBGivenAPercentage = round(probabilityBGivenA*100, 2) # rounding to 2 decimal places\n",
    "print('2. Probability of the people who planned to purchase and actually placed an order given people who planned to purchase ', probabilityBGivenA, 'i.e', probabilityBGivenAPercentage, '%')\n",
    "\n"
   ]
  },
  {
   "cell_type": "markdown",
   "metadata": {},
   "source": [
    "## Answer 2"
   ]
  },
  {
   "cell_type": "code",
   "execution_count": 110,
   "metadata": {},
   "outputs": [
    {
     "name": "stdout",
     "output_type": "stream",
     "text": [
      "A. Probability that none of the items are defective is 0.5987369392383789 i.e  59.87 %\n",
      "B. Probability that exactly one of the items is defective 0.31512470486230504 i.e  31.51 %\n",
      "C. Probability that two or fewer of the items are defective 0.07463479852001954 i.e  7.46 %\n",
      "D. Probability that three or more of the items are defective 0.010475059441406257 i.e  1.05 %\n"
     ]
    }
   ],
   "source": [
    "#IT IS A BINOMIAL PROBLEM\n",
    "\n",
    "import numpy as np\n",
    "import scipy.stats as stats\n",
    "import matplotlib.pyplot as plt\n",
    "\n",
    "n = 10 # number of sample\n",
    "p = 0.05 # failure rate\n",
    "\n",
    "#A. Probability that none of the items are defective?\n",
    "binomialNoDefect = stats.binom.pmf(0,n,p)\n",
    "print('A. Probability that none of the items are defective is', binomialNoDefect, 'i.e ', round(binomialNoDefect*100,2), '%')\n",
    "\n",
    "#B. Probability that exactly one of the items is defective?\n",
    "binomialOneDefect = stats.binom.pmf(1,n,p)\n",
    "print('B. Probability that exactly one of the items is defective', binomialOneDefect, 'i.e ', round(binomialOneDefect*100,2), '%')\n",
    "\n",
    "#C. Probability that two or fewer of the items are defective?\n",
    "binomialTwoOrLess = stats.binom.pmf(2,n,p)\n",
    "print('C. Probability that two or fewer of the items are defective', binomialTwoOrLess, 'i.e ', round(binomialTwoOrLess*100,2), '%')\n",
    "\n",
    "#D. Probability that three or more of the items are defective ?\n",
    "binomialThreeOrMore = stats.binom.pmf(3,n,p)\n",
    "print('D. Probability that three or more of the items are defective', binomialThreeOrMore, 'i.e ', round(binomialThreeOrMore*100,2), '%')"
   ]
  },
  {
   "cell_type": "markdown",
   "metadata": {},
   "source": [
    "## Answer 3"
   ]
  },
  {
   "cell_type": "code",
   "execution_count": 111,
   "metadata": {},
   "outputs": [
    {
     "name": "stdout",
     "output_type": "stream",
     "text": [
      "A. Probability that in a given week he will sell some cars is  0.950212931632136 i.e  95.02 %\n",
      "B. Probability that in a given week he will sell 2 or more but less than 5 cars is  0.6161149710523164 i.e  61.61 %\n",
      "C. Plot for poisson distribution of cars sold per-week vs number of cars sold per week\n"
     ]
    },
    {
     "data": {
      "image/png": "[encoded data removed]",
      "text/plain": [
       "<Figure size 432x288 with 1 Axes>"
      ]
     },
     "metadata": {
      "needs_background": "light"
     },
     "output_type": "display_data"
    }
   ],
   "source": [
    "# IT IS A POISSON DISTRIBUTION\n",
    "import numpy as np\n",
    "import scipy.stats as stats\n",
    "import matplotlib.pyplot as plt\n",
    "\n",
    "#Selling rate per week is 3\n",
    "\n",
    "successRate = 3\n",
    "\n",
    "#A. Probability that in a given week he will sell some cars.\n",
    "# Assuming \" selling some cars\" means 1 or more.This can be found out by (1 - (zero cars) probalility)\n",
    "poissonSomeCars = 1 - (stats.poisson.pmf(0, successRate))\n",
    "print('A. Probability that in a given week he will sell some cars is ', poissonSomeCars, 'i.e ', round(poissonSomeCars*100, 2), '%')\n",
    "\n",
    "#B. Probability that in a given week he will sell 2 or more but less than 5 cars.\n",
    "poissonTwoToFiveCars = stats.poisson.pmf(2,successRate) + stats.poisson.pmf(3,successRate) + stats.poisson.pmf(4,successRate)\n",
    "print('B. Probability that in a given week he will sell 2 or more but less than 5 cars is ', poissonTwoToFiveCars, 'i.e ', round(poissonTwoToFiveCars*100, 2), '%')\n",
    "\n",
    "\n",
    "#C. Plot the poisson distribution function for cumulative probability of cars sold per-week vs number of cars sold per week\n",
    "print('C. Plot for poisson distribution of cars sold per-week vs number of cars sold per week')\n",
    "n=np.arange(0,10) # arrary of successful selling from 1 to 10\n",
    "poisson = stats.poisson.pmf(n,successRate) # poisson for 1 to 10 values\n",
    "plt.plot(n,poisson,'o-')\n",
    "plt.title('Poisson : $\\lambda$ = %i ' % successRate)\n",
    "plt.xlabel('Number of cars sold per week')\n",
    "plt.ylabel('Probability of Number of cars sold per week')\n",
    "plt.show()"
   ]
  },
  {
   "cell_type": "markdown",
   "metadata": {},
   "source": [
    "## Answer 4"
   ]
  },
  {
   "cell_type": "code",
   "execution_count": 112,
   "metadata": {},
   "outputs": [
    {
     "name": "stdout",
     "output_type": "stream",
     "text": [
      "A. Probability that all three orders will be recognised correctly is 0.653972032 i.e  65.4 %\n",
      "B. Probability that all three orders will be recognised correctly is 0.002299968 i.e  0.23 %\n",
      "C. probability that at least two of the three orders will be recognised correctly is 0.954627904 i.e  95.46 %\n"
     ]
    }
   ],
   "source": [
    "# IT IS A BINOMIAL DISTRIBUTION since probability of success is > 0.5 or 50%\n",
    "import numpy as np\n",
    "import scipy.stats as stats\n",
    "import matplotlib.pyplot as plt\n",
    "\n",
    "n = 3 # number of orders\n",
    "p = 0.868 # probability of success\n",
    "\n",
    "#A. What is the probability that all three orders will be recognised correctly?\n",
    "binomialThreeOrders = stats.binom.pmf(3,n,p)\n",
    "print('A. Probability that all three orders will be recognised correctly is', binomialThreeOrders, 'i.e ', round(binomialThreeOrders*100,2), '%')\n",
    "\n",
    "#B. What is the probability that none of the three orders will be recognised correctly?\n",
    "binomialNoOrders = stats.binom.pmf(3,n,1-p) # using 1-p because it deals with all failure rate\n",
    "print('B. Probability that all three orders will be recognised correctly is', binomialNoOrders, 'i.e ', round(binomialNoOrders*100,2), '%')\n",
    "\n",
    "#C. What is the probability that at least two of the three orders will be recognised correctly?\n",
    "binomialTwoOutOFThreeOrders = 1 - stats.binom.pmf(2,n,1-p)\n",
    "print('C. probability that at least two of the three orders will be recognised correctly is', binomialTwoOutOFThreeOrders,'i.e ', round(binomialTwoOutOFThreeOrders*100,2), '%')\n"
   ]
  },
  {
   "cell_type": "markdown",
   "metadata": {},
   "source": [
    "## Answer 5"
   ]
  },
  {
   "cell_type": "code",
   "execution_count": 113,
   "metadata": {},
   "outputs": [
    {
     "name": "stdout",
     "output_type": "stream",
     "text": [
      "A. Percentage of students who score more than 80 is 0.047790352272814696 i.e  4.78 %\n",
      "B. Percentage of students who score less than 50 0.20232838096364308 i.e  20.23 %\n",
      "C. Distintion mark of highest 10% is  75.384\n"
     ]
    }
   ],
   "source": [
    "import numpy as np\n",
    "import scipy.stats as stats\n",
    "import matplotlib.pyplot as plt\n",
    "\n",
    "mean = 60\n",
    "standardDeviation = 12\n",
    "n = 300\n",
    "#A. What is the percentage of students who score more than 80.\n",
    "rightZValue = 1-stats.norm.cdf(80,loc=mean,scale=standardDeviation)\n",
    "print('A. Percentage of students who score more than 80 is' ,rightZValue,'i.e ', round(rightZValue*100,2), '%')\n",
    "\n",
    "\n",
    "#B. What is the percentage of students who score less than 50.\n",
    "leftZValue = stats.norm.cdf(50,loc=mean,scale=standardDeviation)\n",
    "print('B. Percentage of students who score less than 50' ,leftZValue,'i.e ', round(leftZValue*100,2), '%')\n",
    "\n",
    "\n",
    "#C. What should be the distinction mark if the highest 10% of students are to be awarded distinction?\n",
    "#The exact Z value holding 90% of the values below it is 1.282\n",
    "# X = Mean + ZValue(Standard Deviation)\n",
    "distintionMark = mean + (1.282 * standardDeviation)\n",
    "print('C. Distintion mark of highest 10% is ', distintionMark)"
   ]
  },
  {
   "cell_type": "markdown",
   "metadata": {},
   "source": [
    "## Answer 6"
   ]
  },
  {
   "cell_type": "markdown",
   "metadata": {},
   "source": [
    "\n",
    "\n",
    "### From the learnt concepts I feel it can be used in food industry, especially in the restaurants where they can cook volume food based on the data driven prediction and cook according to the online and offline sale.\n",
    "\n",
    "#### This can avoid wastage of food and to get deeper insights about the customer and cashflow."
   ]
  }
 ],
 "metadata": {
  "kernelspec": {
   "display_name": "Python 3",
   "language": "python",
   "name": "python3"
  },
  "language_info": {
   "codemirror_mode": {
    "name": "ipython",
    "version": 3
   },
   "file_extension": ".py",
   "mimetype": "text/x-python",
   "name": "python",
   "nbconvert_exporter": "python",
   "pygments_lexer": "ipython3",
   "version": "3.8.5"
  }
 },
 "nbformat": 4,
 "nbformat_minor": 4
}
